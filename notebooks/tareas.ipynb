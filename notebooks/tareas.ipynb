{
 "cells": [
  {
   "cell_type": "code",
   "execution_count": 1,
   "id": "ae588c38",
   "metadata": {},
   "outputs": [
    {
     "name": "stdout",
     "output_type": "stream",
     "text": [
      "Temperaturas registradas: [25.0, 20.0, 29.0, 10.0, 15.0]\n"
     ]
    }
   ],
   "source": [
    "temperaturas = []\n",
    "\n",
    "\n",
    "for i in range(5):\n",
    "    \n",
    "    temp = float(input(f\"Ingresa la temperatura del día {i + 1}: \"))\n",
    "    \n",
    "    # Agregamos la temperatura a la lista\n",
    "    temperaturas.append(temp)\n",
    "\n",
    "print(\"Temperaturas registradas:\", temperaturas)\n"
   ]
  },
  {
   "cell_type": "code",
   "execution_count": 2,
   "id": "6126fe95",
   "metadata": {},
   "outputs": [
    {
     "name": "stdout",
     "output_type": "stream",
     "text": [
      "Temperatura promedio: 19.80 grados\n",
      "Temperatura máxima: 29.0 grados\n",
      "Temperatura mínima: 10.0 grados\n"
     ]
    }
   ],
   "source": [
    "# Asumimos que esta lista ya existe con los 5 valores\n",
    "# temperaturas = [26.0, 24.5, 28.0, 22.0, 27.5] \n",
    "\n",
    "promedio = sum(temperaturas) / len(temperaturas)\n",
    "maxima = max(temperaturas)\n",
    "minima = min(temperaturas)\n",
    "\n",
    "print(f\"Temperatura promedio: {promedio:.2f} grados\")\n",
    "print(f\"Temperatura máxima: {maxima} grados\")\n",
    "print(f\"Temperatura mínima: {minima} grados\")"
   ]
  },
  {
   "cell_type": "code",
   "execution_count": 4,
   "id": "5bd95f95",
   "metadata": {},
   "outputs": [
    {
     "name": "stdout",
     "output_type": "stream",
     "text": [
      "Días con temperatura alta (mayor a 25°C): 1\n"
     ]
    }
   ],
   "source": [
    "# 1. Creamos la variable que empieza en cero (el contador)\n",
    "dias_altos = 0\n",
    "\n",
    "# 2. Recorremos cada temperatura en la lista\n",
    "for temp in temperaturas:\n",
    "    # 3. Revisamos la condición (si es mayor a 25)\n",
    "    if temp > 25:\n",
    "        # Si la condición es VERDADERA, incrementamos el contador en 1\n",
    "        dias_altos += 1\n",
    "\n",
    "print(f\"Días con temperatura alta (mayor a 25°C): {dias_altos}\")"
   ]
  },
  {
   "cell_type": "code",
   "execution_count": 5,
   "id": "62281278",
   "metadata": {},
   "outputs": [
    {
     "name": "stdout",
     "output_type": "stream",
     "text": [
      "\n",
      "--- RESUMEN COMPLETO DE LA SEMANA ---\n",
      "Datos originales: [25.0, 20.0, 29.0, 10.0, 15.0]\n",
      "Temperatura promedio: 19.80 grados\n",
      "Temperatura máxima: 29.0 grados\n",
      "Temperatura mínima: 10.0 grados\n",
      "Conteo de días > 25°C: 1\n"
     ]
    }
   ],
   "source": [
    "print(\"\\n--- RESUMEN COMPLETO DE LA SEMANA ---\")\n",
    "print(f\"Datos originales: {temperaturas}\")\n",
    "print(f\"Temperatura promedio: {promedio:.2f} grados\")\n",
    "print(f\"Temperatura máxima: {maxima} grados\")\n",
    "print(f\"Temperatura mínima: {minima} grados\")\n",
    "print(f\"Conteo de días > 25°C: {dias_altos}\")"
   ]
  }
 ],
 "metadata": {
  "kernelspec": {
   "display_name": "Python 3",
   "language": "python",
   "name": "python3"
  },
  "language_info": {
   "codemirror_mode": {
    "name": "ipython",
    "version": 3
   },
   "file_extension": ".py",
   "mimetype": "text/x-python",
   "name": "python",
   "nbconvert_exporter": "python",
   "pygments_lexer": "ipython3",
   "version": "3.13.7"
  }
 },
 "nbformat": 4,
 "nbformat_minor": 5
}
