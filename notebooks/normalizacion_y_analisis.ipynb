{
 "cells": [
  {
   "cell_type": "code",
   "execution_count": 1,
   "id": "ff7af93a",
   "metadata": {},
   "outputs": [
    {
     "ename": "ModuleNotFoundError",
     "evalue": "No module named 'pandas'",
     "output_type": "error",
     "traceback": [
      "\u001b[31m---------------------------------------------------------------------------\u001b[39m",
      "\u001b[31mModuleNotFoundError\u001b[39m                       Traceback (most recent call last)",
      "\u001b[36mCell\u001b[39m\u001b[36m \u001b[39m\u001b[32mIn[1]\u001b[39m\u001b[32m, line 3\u001b[39m\n\u001b[32m      1\u001b[39m \u001b[38;5;66;03m# CELDAS DE CÓDIGO INICIALES EN EL NOTEBOOK\u001b[39;00m\n\u001b[32m----> \u001b[39m\u001b[32m3\u001b[39m \u001b[38;5;28;01mimport\u001b[39;00m\u001b[38;5;250m \u001b[39m\u001b[34;01mpandas\u001b[39;00m\u001b[38;5;250m \u001b[39m\u001b[38;5;28;01mas\u001b[39;00m\u001b[38;5;250m \u001b[39m\u001b[34;01mpd\u001b[39;00m\n\u001b[32m      4\u001b[39m \u001b[38;5;28;01mimport\u001b[39;00m\u001b[38;5;250m \u001b[39m\u001b[34;01mos\u001b[39;00m \u001b[38;5;66;03m# Necesario para manejar rutas de archivos\u001b[39;00m\n\u001b[32m      6\u001b[39m \u001b[38;5;66;03m# 1. Rutas\u001b[39;00m\n",
      "\u001b[31mModuleNotFoundError\u001b[39m: No module named 'pandas'"
     ]
    }
   ],
   "source": [
    "# CELDAS DE CÓDIGO INICIALES EN EL NOTEBOOK\n",
    "\n",
    "import pandas as pd\n",
    "import os # Necesario para manejar rutas de archivos\n",
    "\n",
    "# 1. Rutas\n",
    "RAW_PATH = '../data/raw/' # Saliendo de notebooks/ y entrando a data/raw/\n",
    "\n",
    "# 2. Cargar los archivos .xlsx\n",
    "df_clientes = pd.read_excel(os.path.join(RAW_PATH, 'clientes.xlsx'))\n",
    "df_productos = pd.read_excel(os.path.join(RAW_PATH, 'productos.xlsx'))\n",
    "df_ventas = pd.read_excel(os.path.join(RAW_PATH, 'ventas.xlsx'))\n",
    "df_detalle = pd.read_excel(os.path.join(RAW_PATH, 'detalle_ventas.xlsx'))"
   ]
  }
 ],
 "metadata": {
  "kernelspec": {
   "display_name": "Python 3",
   "language": "python",
   "name": "python3"
  },
  "language_info": {
   "codemirror_mode": {
    "name": "ipython",
    "version": 3
   },
   "file_extension": ".py",
   "mimetype": "text/x-python",
   "name": "python",
   "nbconvert_exporter": "python",
   "pygments_lexer": "ipython3",
   "version": "3.13.7"
  }
 },
 "nbformat": 4,
 "nbformat_minor": 5
}
