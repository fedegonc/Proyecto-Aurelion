{
 "cells": [
  {
   "cell_type": "code",
   "execution_count": 3,
   "id": "cb0572cd",
   "metadata": {},
   "outputs": [
    {
     "name": "stdout",
     "output_type": "stream",
     "text": [
      "Ventas registradas: [500.0, 800.0, 1500.0, 2500.0, 2800.0, 3000.0, 200.0, 700.0, 1200.0, 2900.0]\n"
     ]
    }
   ],
   "source": [
    "ventas = []\n",
    "\n",
    "\n",
    "for i in range(10):\n",
    "    \n",
    "    monto = float(input(f\"Ingresa el monto {i + 1}: \"))\n",
    "    \n",
    "    # Agregamos las ventas  a la lista\n",
    "    ventas.append(monto)\n",
    "\n",
    "print(\"Ventas registradas:\", ventas)"
   ]
  },
  {
   "cell_type": "code",
   "execution_count": 4,
   "id": "78a4f64b",
   "metadata": {},
   "outputs": [
    {
     "name": "stdout",
     "output_type": "stream",
     "text": [
      "Promedio de ventas: 1610.0\n"
     ]
    }
   ],
   "source": [
    "promedio = sum(ventas) / len(ventas)\n",
    "print(\"Promedio de ventas:\", promedio)\n"
   ]
  },
  {
   "cell_type": "code",
   "execution_count": 5,
   "id": "acd0356c",
   "metadata": {},
   "outputs": [
    {
     "name": "stdout",
     "output_type": "stream",
     "text": [
      "\n",
      "--- Análisis Vectorizado de Ventas ---\n",
      "Montos generados: [ 977 2697 2299 1558 2437  816 2522 1492 1133 1536]\n",
      "-----------------------------------\n",
      "Total recaudado (Punto 4): $17467\n",
      "Promedio de ventas (Punto 2): $1746.70\n",
      "Mejor venta (Punto 5): $2697\n",
      "Peor venta (Punto 5): $816\n",
      "Ventas > Promedio (Punto 3): [2697 2299 2437 2522]\n"
     ]
    }
   ],
   "source": [
    "import numpy as np\n",
    "\n",
    "# PUNTO 1: Generar 10 ventas aleatorias (reemplaza el ciclo input/for)\n",
    "# Generamos 10 números enteros entre 800 y 3200 (para usar el rango que pediste)\n",
    "ventas_np = np.random.randint(low=800, high=3201, size=10) \n",
    "\n",
    "# --- Cálculos Vectorizados con NumPy ---\n",
    "\n",
    "# 4. Calcular el total recaudado (usamos .sum())\n",
    "total_recaudado = ventas_np.sum()\n",
    "\n",
    "# 2. Calcular el promedio (usamos .mean())\n",
    "promedio = ventas_np.mean()\n",
    "\n",
    "# 5. Determinar la mejor y peor venta (usamos .max() y .min())\n",
    "mejor_venta = ventas_np.max()\n",
    "peor_venta = ventas_np.min()\n",
    "\n",
    "# 3. Identificar cuáles ventas estuvieron por encima del promedio\n",
    "# Aplicamos un filtro booleano (vectorización pura)\n",
    "ventas_altas = ventas_np[ventas_np > promedio]\n",
    "\n",
    "print(f\"\\n--- Análisis Vectorizado de Ventas ---\")\n",
    "print(f\"Montos generados: {ventas_np}\")\n",
    "print(\"-\" * 35)\n",
    "print(f\"Total recaudado (Punto 4): ${total_recaudado}\")\n",
    "print(f\"Promedio de ventas (Punto 2): ${promedio:.2f}\")\n",
    "print(f\"Mejor venta (Punto 5): ${mejor_venta}\")\n",
    "print(f\"Peor venta (Punto 5): ${peor_venta}\")\n",
    "print(f\"Ventas > Promedio (Punto 3): {ventas_altas}\")"
   ]
  }
 ],
 "metadata": {
  "kernelspec": {
   "display_name": "Python 3",
   "language": "python",
   "name": "python3"
  },
  "language_info": {
   "codemirror_mode": {
    "name": "ipython",
    "version": 3
   },
   "file_extension": ".py",
   "mimetype": "text/x-python",
   "name": "python",
   "nbconvert_exporter": "python",
   "pygments_lexer": "ipython3",
   "version": "3.13.7"
  }
 },
 "nbformat": 4,
 "nbformat_minor": 5
}
