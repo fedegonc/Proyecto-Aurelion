{
 "cells": [
  {
   "cell_type": "code",
   "execution_count": 4,
   "id": "b77721ff",
   "metadata": {},
   "outputs": [],
   "source": [
    "# Cargar la tabla de clientes usando la misma ruta relativa\n",
    "df_clientes = pd.read_excel('../data/processed/clientes_proc.xlsx')\n",
    "\n",
    "# Cargar la tabla de productos usando la misma ruta relativa\n",
    "df_productos = pd.read_excel('../data/processed/productos_proc.xlsx')\n",
    "\n",
    "# También carguemos el detalle de ventas\n",
    "df_detalle = pd.read_excel('../data/processed/detalle_ventas_proc.xlsx')"
   ]
  }
 ],
 "metadata": {
  "kernelspec": {
   "display_name": "Python 3",
   "language": "python",
   "name": "python3"
  },
  "language_info": {
   "codemirror_mode": {
    "name": "ipython",
    "version": 3
   },
   "file_extension": ".py",
   "mimetype": "text/x-python",
   "name": "python",
   "nbconvert_exporter": "python",
   "pygments_lexer": "ipython3",
   "version": "3.13.7"
  }
 },
 "nbformat": 4,
 "nbformat_minor": 5
}
